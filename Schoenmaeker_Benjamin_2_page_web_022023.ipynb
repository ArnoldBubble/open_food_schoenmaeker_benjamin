{
 "cells": [
  {
   "cell_type": "code",
   "execution_count": 1,
   "id": "b6e09b7e-93e9-495c-94e0-c38a14b62fc0",
   "metadata": {},
   "outputs": [],
   "source": [
    "# env oc pour OpenClassrooms\n",
    "# context : Projet Nutriscore - \"Open Food Facts\"\n",
    "\n",
    "# Partie 1 - Jupiter Notebook\n",
    "# Partie 2 - Page web: Application\n",
    "# Partie 3 - Présentation du sujet (diaporama)s\n",
    "\n",
    "# __auteur__ = \"Benjamin Schoenmaeker\"\n",
    "# __date__ =  \"07-02-2023\""
   ]
  },
  {
   "cell_type": "markdown",
   "id": "decc8a4c-298f-4ed5-b491-f1cc45c10492",
   "metadata": {},
   "source": [
    "<h3>Calcul d'un nouveau Nutri-Score noté de 0 à 100</h3>"
   ]
  },
  {
   "cell_type": "markdown",
   "id": "b90edd0e-aa68-4937-85fd-d823f0d0d14d",
   "metadata": {},
   "source": [
    "Ce code définit une interface graphique pour rechercher des informations sur un produit alimentaire.\n",
    "\n",
    "Lorsque l'utilisateur saisit un nom de produit et clique sur le bouton \"Rechercher\", le code effectue une recherche dans une base de données de produits alimentaires. \n",
    "Le résultat de la recherche est filtré en fonction du nom du produit saisi et affiché sous forme de graphiques.\n",
    "\n",
    "L'application publie les informations nutritionnelles sur ces produits (sucres, graisses, hydrates de carbone, protéines, sel et score nutritionnel).\n",
    "La quantité d'informations affichées dépend du nombre de produits trouvés."
   ]
  },
  {
   "cell_type": "code",
   "execution_count": 2,
   "id": "38e129fd-8c8e-43ef-88ef-9c089dcfd3e8",
   "metadata": {},
   "outputs": [],
   "source": [
    "import pandas as pd\n",
    "import matplotlib.pyplot as plt\n",
    "from IPython.display import display, clear_output\n",
    "import plotly.graph_objs as go\n",
    "from plotly.subplots import make_subplots\n",
    "import ipywidgets as widgets\n",
    "from ipywidgets import VBox, HBox\n",
    "\n",
    "import seaborn as sns\n",
    "import plotly.express as px\n",
    "\n",
    "# Exportation graphique des données\n",
    "import os\n",
    "import dataframe_image as dfi\n",
    "\n",
    "from IPython.display import display"
   ]
  },
  {
   "cell_type": "code",
   "execution_count": 3,
   "id": "dbed0156-1b19-4be8-8999-8e8e89d76b6b",
   "metadata": {},
   "outputs": [],
   "source": [
    "# Chargement des données dans un dataframe\n",
    "open_food_dataframe = pd.read_csv('.\\export\\csv\\sampling_open_food_job.csv', sep=';', low_memory=False) "
   ]
  },
  {
   "cell_type": "code",
   "execution_count": 14,
   "id": "a8c32c84-0340-46f9-85cb-7a32eca785a2",
   "metadata": {},
   "outputs": [
    {
     "data": {
      "application/vnd.jupyter.widget-view+json": {
       "model_id": "fa08222982b44c0fb3a0f5abab3370d5",
       "version_major": 2,
       "version_minor": 0
      },
      "text/plain": [
       "HBox(children=(Text(value='', description='Produit:'), Button(description='Rechercher', style=ButtonStyle())))"
      ]
     },
     "metadata": {},
     "output_type": "display_data"
    },
    {
     "data": {
      "application/vnd.jupyter.widget-view+json": {
       "model_id": "f29d377819af4c7ea7edb7d133f0c7ab",
       "version_major": 2,
       "version_minor": 0
      },
      "text/plain": [
       "Output()"
      ]
     },
     "metadata": {},
     "output_type": "display_data"
    }
   ],
   "source": [
    "# Définir uune sortie pour le widget\n",
    "out = widgets.Output()\n",
    "\n",
    "# Définition de la fonction \"search\" qui effectue la recherche des produits alimentaires.\n",
    "def search(product_name):\n",
    "    e = 0\n",
    "    out.clear_output()\n",
    "    \n",
    "    # Création d'un masque pour filtrer les données en fonction du nom de produit saisi.\n",
    "    mask = open_food_dataframe['product_name'].str.contains(product_name, regex=False)\n",
    "    \n",
    "    # Boucle sur les termes séparés pour s'assurer que tous les termes sont présents dans le nom du produit.\n",
    "    for term in product_name.split():\n",
    "        mask &= open_food_dataframe['product_name'].str.contains(term, regex=False)\n",
    "        \n",
    "    # Extraction des informations sur le produit trouvé à partir de la base de données.\n",
    "    product_info = open_food_dataframe[mask]\n",
    "    \n",
    "    # Limitation à 10 résultats\n",
    "    if(len(product_info['product_name']) >= 10):\n",
    "        var_nbr = 10\n",
    "        product_info = product_info.head(10)\n",
    "    else:\n",
    "        var_nbr = len(product_info['product_name'])\n",
    "        product_info = product_info.head(var_nbr)\n",
    "    \n",
    "    \n",
    "    # Affichage du nombre de produits trouvés.\n",
    "    if (len(product_info['product_name']) == 0):\n",
    "        print(\"Aucun produit trouvé\")\n",
    "    else:\n",
    "        with out:\n",
    "            fig2 = px.bar(product_info, x='product_name', y='energy_100g', labels={'product_name':product_name, 'energy_100g': 'Valeur énergétique (en %)'})\n",
    "            fig2.update_layout(yaxis_type=\"linear\", yaxis_title=\"Valeur énergétique (en %)\")\n",
    "            # fig.show()\n",
    "            display(fig2)\n",
    "            \n",
    "            fig = make_subplots(rows=var_nbr, cols=3, subplot_titles=list(product_info[\"product_name\"]))\n",
    "            \n",
    "            for i in range(var_nbr):\n",
    "                if ( e <= var_nbr ):\n",
    "                    print(e)\n",
    "                    \n",
    "                    # le nombre de produits trouvés est affiché et les informations nutritionnelles sur les produits sont affichées sous forme de graphiques.\n",
    "                    labels = ['Sugars', 'Fat', 'Carbohydrates', 'Proteins', 'Salt', 'nutrition_score_fr']\n",
    "                    values = product_info.iloc[i][['sugars_100g', 'fat_100g', 'carbohydrates_100g', 'proteins_100g', 'salt_100g', 'nutrition_score_fr_100g']]\n",
    "                    product_name = product_info.iloc[i][\"product_name\"]\n",
    "                    \n",
    "                    fig = plt.figure()\n",
    "                    plt.bar(labels, values)\n",
    "                    plt.xlabel('Nutrition')\n",
    "                    plt.ylabel('Valeur')\n",
    "                    plt.title(product_name)\n",
    "                    plt.tight_layout()\n",
    "                    \n",
    "                    # Affichage\n",
    "                    display(fig)\n",
    "                    \n",
    "                    fig3 = plt.figure()\n",
    "                    plt.pie(values, labels=labels, autopct='%1.1f%%')\n",
    "                    plt.title(product_name)\n",
    "\n",
    "                    # Affichage\n",
    "                    display(fig3)\n",
    "\n",
    "                    # Mise à jour limitation du compteur de limitation à 10 éléments\n",
    "                    e = e + 1\n",
    "                else:\n",
    "                    print(\"{} valeurs atteintes\".format(var_nbr))\n",
    "\n",
    "# Affichage de la zone de saisie de texte et du bouton\n",
    "text = widgets.Text(description=\"Produit:\")\n",
    "\n",
    "# Bouton \"Recherche\".\n",
    "def on_button_click(b):\n",
    "    search(text.value)\n",
    "\n",
    "button = widgets.Button(description=\"Rechercher\")\n",
    "\n",
    "button.on_click(on_button_click)\n",
    "\n",
    "# Affichage des résultats de la recherche.\n",
    "display(HBox([text, button]), out)\n"
   ]
  },
  {
   "cell_type": "code",
   "execution_count": null,
   "id": "335fd37a-4c5f-4369-b2a2-5f0237cabe85",
   "metadata": {},
   "outputs": [],
   "source": []
  },
  {
   "cell_type": "code",
   "execution_count": null,
   "id": "04fe0cfa-b671-49a3-945e-6c43a41be080",
   "metadata": {},
   "outputs": [],
   "source": []
  }
 ],
 "metadata": {
  "kernelspec": {
   "display_name": "oc",
   "language": "python",
   "name": "oc"
  },
  "language_info": {
   "codemirror_mode": {
    "name": "ipython",
    "version": 3
   },
   "file_extension": ".py",
   "mimetype": "text/x-python",
   "name": "python",
   "nbconvert_exporter": "python",
   "pygments_lexer": "ipython3",
   "version": "3.9.13"
  }
 },
 "nbformat": 4,
 "nbformat_minor": 5
}
